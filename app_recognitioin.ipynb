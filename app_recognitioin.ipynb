{
  "nbformat": 4,
  "nbformat_minor": 0,
  "metadata": {
    "colab": {
      "name": "app_recognitioin.ipynb",
      "provenance": [],
      "authorship_tag": "ABX9TyO0CG081Beaa74PlByrZK7i",
      "include_colab_link": true
    },
    "kernelspec": {
      "name": "python3",
      "display_name": "Python 3"
    },
    "language_info": {
      "name": "python"
    }
  },
  "cells": [
    {
      "cell_type": "markdown",
      "metadata": {
        "id": "view-in-github",
        "colab_type": "text"
      },
      "source": [
        "<a href=\"https://colab.research.google.com/github/hugeclear/image_recognition/blob/master/app_recognitioin.ipynb\" target=\"_parent\"><img src=\"https://colab.research.google.com/assets/colab-badge.svg\" alt=\"Open In Colab\"/></a>"
      ]
    },
    {
      "cell_type": "code",
      "execution_count": null,
      "metadata": {
        "id": "CFSFCBa7oAGx",
        "colab": {
          "base_uri": "https://localhost:8080/"
        },
        "outputId": "e2b09857-45cc-4886-e649-72a7d2d31308"
      },
      "outputs": [
        {
          "output_type": "stream",
          "name": "stdout",
          "text": [
            "\u001b[K     |████████████████████████████████| 9.9 MB 5.2 MB/s \n",
            "\u001b[K     |████████████████████████████████| 181 kB 39.7 MB/s \n",
            "\u001b[K     |████████████████████████████████| 164 kB 32.3 MB/s \n",
            "\u001b[K     |████████████████████████████████| 4.3 MB 34.6 MB/s \n",
            "\u001b[K     |████████████████████████████████| 78 kB 2.9 MB/s \n",
            "\u001b[K     |████████████████████████████████| 63 kB 1.5 MB/s \n",
            "\u001b[K     |████████████████████████████████| 1.6 MB 52.6 MB/s \n",
            "\u001b[?25h  Building wheel for validators (setup.py) ... \u001b[?25l\u001b[?25hdone\n",
            "  Building wheel for pyngrok (setup.py) ... \u001b[?25l\u001b[?25hdone\n"
          ]
        }
      ],
      "source": [
        "!pip install streamlit==1.7.0 --quiet\n",
        "!pip install pyngrok==4.1.1 --quiet"
      ]
    },
    {
      "cell_type": "code",
      "source": [
        "import streamlit as st\n",
        "from pyngrok import ngrok\n",
        "import numpy as np\n",
        "import json\n",
        "from PIL import Image\n",
        "import matplotlib.pyplot as plt\n",
        "%matplotlib inline\n",
        "import torch\n",
        "import torchvision\n",
        "from torchvision import models,transforms\n"
      ],
      "metadata": {
        "id": "Po8hkbGtOkvI",
        "colab": {
          "base_uri": "https://localhost:8080/"
        },
        "outputId": "dd677c71-be74-4bae-c947-b48a6c9d16c1"
      },
      "execution_count": null,
      "outputs": [
        {
          "output_type": "stream",
          "name": "stderr",
          "text": [
            "INFO:numexpr.utils:NumExpr defaulting to 2 threads.\n",
            "2022-08-17 12:15:55.919 INFO    numexpr.utils: NumExpr defaulting to 2 threads.\n"
          ]
        }
      ]
    },
    {
      "cell_type": "code",
      "source": [
        "print(\"pytorch version: \",torch.__version__)\n",
        "print(\"torchvision: \" , torchvision.__version__)\n"
      ],
      "metadata": {
        "colab": {
          "base_uri": "https://localhost:8080/"
        },
        "id": "otcNYe_R3e3t",
        "outputId": "54a6188f-da08-4497-f577-8b6c9aa8158d"
      },
      "execution_count": null,
      "outputs": [
        {
          "output_type": "stream",
          "name": "stdout",
          "text": [
            "pytorch version:  1.12.1+cu113\n",
            "torchvision:  0.13.1+cu113\n"
          ]
        }
      ]
    },
    {
      "cell_type": "code",
      "source": [
        "import os\n",
        "import urllib.request\n",
        "import zipfile\n",
        "data_dir = \"./data/\"\n",
        "if not os.path.exists(data_dir):\n",
        "  os.mkdir(data_dir)\n",
        "#imagenetのclass_index download \n",
        "# made by keras\n",
        "# https://github.com/fchollet/deep-learning-models/blob/master/imagenet_utils.py\n",
        "url = \"https://s3.amazonaws.com/deep-learning-models/image-models/imagenet_class_index.json\"\n",
        "save_path = os.path.join(data_dir,\"imagenet_class_index.json\")\n",
        "\n",
        "if not os.path.exists(save_path):\n",
        "  urllib.request.urlretrieve(url,save_path)\n",
        "\n",
        "url = \"https://download.pytorch.org/tutorial/hymenoptera_data.zip\"\n",
        "save_path = os.path.join(data_dir,\"hymenoptera_data.zip\")\n",
        "\n",
        "if not os.path.exists(save_path):\n",
        "  urllib.request.urlretrieve(url,save_path)\n",
        "\n",
        "  zip = zipfile.ZipFile(save_path)\n",
        "  zip.extractall(data_dir) #unfreeze\n",
        "  zip.close()"
      ],
      "metadata": {
        "id": "zzdh7Z9JPS_f"
      },
      "execution_count": null,
      "outputs": []
    },
    {
      "cell_type": "code",
      "source": [
        "%%writefile model.py\n",
        "import torch\n",
        "from torchvision import models, transforms\n",
        "import torchvision\n",
        "import numpy as np\n",
        "import json\n",
        "\n",
        "\n",
        "use_pretrained=True\n",
        "net=models.vgg16(pretrained=use_pretrained) #import pretraiined model\n",
        "net.eval()\n",
        "\n",
        "def predict(img):\n",
        "  #前処理\n",
        "  transform = transforms.Compose([\n",
        "      transforms.Resize(224),\n",
        "      transforms.CenterCrop(224),\n",
        "      transforms.ToTensor(),\n",
        "      transforms.Normalize(\n",
        "          mean=[0.485,0.456,0.406],\n",
        "          std=[0.229,0.224,0.225]\n",
        "          )\n",
        "  ])\n",
        "  #input to model\n",
        "  img_transformed = transform(img)\n",
        "  #img_transformed = img_transformed.numpy().transpose((1,2,0))\n",
        "  #img_transformed = np.clip(img_transformed,0,1) \n",
        "  inputs=img_transformed.unsqueeze_(0) #unsqueeze_() ->inplace tensor , unsqueeze() -> not inplace\n",
        "\n",
        "  #Create a post-processing class to predict labels from output results\n",
        "  ILSVRC_class_index = json.load(open('/content/data/imagenet_class_index.json','r'))\n",
        "\n",
        "\n",
        "  net.eval()\n",
        "  out=net(inputs)\n",
        "  maxid = np.argmax(out.detach().numpy())\n",
        "  predicted_label_name = ILSVRC_class_index[str(maxid)][1]  \n",
        "\n",
        "  result = predicted_label_name\n",
        "  return result\n",
        "  \n",
        "\n",
        "   \n",
        "  \n",
        "  \n"
      ],
      "metadata": {
        "id": "AF_FRGMFOyOs",
        "colab": {
          "base_uri": "https://localhost:8080/"
        },
        "outputId": "c6780dd4-5717-4abe-a499-c6a37ca40e61"
      },
      "execution_count": null,
      "outputs": [
        {
          "output_type": "stream",
          "name": "stdout",
          "text": [
            "Overwriting model.py\n"
          ]
        }
      ]
    },
    {
      "cell_type": "code",
      "source": [
        "%%writefile app.py\n",
        "import streamlit as st\n",
        "import matplotlib.pyplot as plt\n",
        "from PIL import Image\n",
        "from model import predict\n",
        "\n",
        "st.set_option(\"deprecation.showfileUploaderEncoding\",False)\n",
        "st.sidebar.title(\"画像認識アプリ\")\n",
        "st.sidebar.write(\"vgg１６で未知の画像を推定\")\n",
        "\n",
        "st.sidebar.write(\"\")\n",
        "\n",
        "img_source=st.sidebar.radio(\"select image source\",\n",
        "                            (\"upload image\",\"take photo by camera\"))\n",
        "if img_source == \"upload image\":\n",
        "  img_file = st.sidebar.file_uploader(\"select image\",type=[\"png\",\"jpg\"])\n",
        "elif img_source==\"take photo by camera\":\n",
        "  img_file = st.camera_input(\"take photo\")\n",
        "\n",
        "if img_file is not None:\n",
        "  with st.spinner(\"estimating...\"):\n",
        "    img = Image.open(img_file)\n",
        "    st.image(img, caption=\"this image is ......\")\n",
        "    results = predict(img)\n",
        "    \n",
        "\n",
        "    st.subheader(\"results\")\n",
        "    st.write(results+\"です\")\n",
        "    st.write()\n"
      ],
      "metadata": {
        "id": "PNKgphIIultj",
        "colab": {
          "base_uri": "https://localhost:8080/"
        },
        "outputId": "54a7a186-33e1-4b4b-c03e-056b42e7f76d"
      },
      "execution_count": null,
      "outputs": [
        {
          "output_type": "stream",
          "name": "stdout",
          "text": [
            "Overwriting app.py\n"
          ]
        }
      ]
    },
    {
      "cell_type": "code",
      "source": [
        "!ngrok authtoken 299DaPckUttczCFfo6GrbOSuLZK_6neHqb4NvQuBTqnd3xKjm"
      ],
      "metadata": {
        "colab": {
          "base_uri": "https://localhost:8080/"
        },
        "id": "ZuoF-f3UVQtg",
        "outputId": "33d92ccd-278e-4009-d419-3e6d923d3df6"
      },
      "execution_count": null,
      "outputs": [
        {
          "output_type": "stream",
          "name": "stdout",
          "text": [
            "Authtoken saved to configuration file: /root/.ngrok2/ngrok.yml\n"
          ]
        }
      ]
    },
    {
      "cell_type": "code",
      "source": [
        "!streamlit run app.py &>/dev/null&"
      ],
      "metadata": {
        "id": "LrkWXPqIVZdH"
      },
      "execution_count": null,
      "outputs": []
    },
    {
      "cell_type": "code",
      "source": [
        "ngrok.kill()\n",
        "url = ngrok.connect(port=\"8501\")\n"
      ],
      "metadata": {
        "colab": {
          "base_uri": "https://localhost:8080/"
        },
        "id": "QE-djxY9VkXm",
        "outputId": "41b62d7e-d91e-4773-bda7-9f805eefc932"
      },
      "execution_count": null,
      "outputs": [
        {
          "output_type": "stream",
          "name": "stderr",
          "text": [
            "INFO:pyngrok.process:Killing ngrok process: 232\n",
            "2022-08-17 12:20:40.447 INFO    pyngrok.process: Killing ngrok process: 232\n",
            "INFO:pyngrok.process:ngrok process starting: 295\n",
            "2022-08-17 12:20:40.476 INFO    pyngrok.process: ngrok process starting: 295\n",
            "INFO:pyngrok.process:t=2022-08-17T12:20:40+0000 lvl=info msg=\"no configuration paths supplied\"\n",
            "\n",
            "2022-08-17 12:20:40.505 INFO    pyngrok.process: t=2022-08-17T12:20:40+0000 lvl=info msg=\"no configuration paths supplied\"\n",
            "\n",
            "INFO:pyngrok.process:t=2022-08-17T12:20:40+0000 lvl=info msg=\"using configuration at default config path\" path=/root/.ngrok2/ngrok.yml\n",
            "\n",
            "2022-08-17 12:20:40.512 INFO    pyngrok.process: t=2022-08-17T12:20:40+0000 lvl=info msg=\"using configuration at default config path\" path=/root/.ngrok2/ngrok.yml\n",
            "\n",
            "INFO:pyngrok.process:t=2022-08-17T12:20:40+0000 lvl=info msg=\"open config file\" path=/root/.ngrok2/ngrok.yml err=nil\n",
            "\n",
            "2022-08-17 12:20:40.517 INFO    pyngrok.process: t=2022-08-17T12:20:40+0000 lvl=info msg=\"open config file\" path=/root/.ngrok2/ngrok.yml err=nil\n",
            "\n",
            "INFO:pyngrok.process:t=2022-08-17T12:20:40+0000 lvl=info msg=\"starting web service\" obj=web addr=127.0.0.1:4040\n",
            "\n",
            "2022-08-17 12:20:40.525 INFO    pyngrok.process: t=2022-08-17T12:20:40+0000 lvl=info msg=\"starting web service\" obj=web addr=127.0.0.1:4040\n",
            "\n",
            "INFO:pyngrok.process:t=2022-08-17T12:20:40+0000 lvl=info msg=\"tunnel session started\" obj=tunnels.session\n",
            "\n",
            "2022-08-17 12:20:40.673 INFO    pyngrok.process: t=2022-08-17T12:20:40+0000 lvl=info msg=\"tunnel session started\" obj=tunnels.session\n",
            "\n",
            "INFO:pyngrok.process:t=2022-08-17T12:20:40+0000 lvl=info msg=\"client session established\" obj=csess id=3d50222bd57e\n",
            "\n",
            "2022-08-17 12:20:40.680 INFO    pyngrok.process: t=2022-08-17T12:20:40+0000 lvl=info msg=\"client session established\" obj=csess id=3d50222bd57e\n",
            "\n",
            "INFO:pyngrok.process:ngrok process has started: http://127.0.0.1:4040\n",
            "2022-08-17 12:20:40.687 INFO    pyngrok.process: ngrok process has started: http://127.0.0.1:4040\n",
            "INFO:pyngrok.process:t=2022-08-17T12:20:40+0000 lvl=info msg=start pg=/api/tunnels id=86fe57c2a591b6e5\n",
            "\n",
            "2022-08-17 12:20:40.703 INFO    pyngrok.process: t=2022-08-17T12:20:40+0000 lvl=info msg=start pg=/api/tunnels id=86fe57c2a591b6e5\n",
            "\n",
            "INFO:pyngrok.process:t=2022-08-17T12:20:40+0000 lvl=info msg=end pg=/api/tunnels id=86fe57c2a591b6e5 status=200 dur=543.213µs\n",
            "\n",
            "2022-08-17 12:20:40.711 INFO    pyngrok.process: t=2022-08-17T12:20:40+0000 lvl=info msg=end pg=/api/tunnels id=86fe57c2a591b6e5 status=200 dur=543.213µs\n",
            "\n",
            "INFO:pyngrok.process:t=2022-08-17T12:20:40+0000 lvl=info msg=start pg=/api/tunnels id=82a061c2c0bb0b6d\n",
            "\n",
            "2022-08-17 12:20:40.715 INFO    pyngrok.process: t=2022-08-17T12:20:40+0000 lvl=info msg=start pg=/api/tunnels id=82a061c2c0bb0b6d\n",
            "\n",
            "INFO:pyngrok.process:t=2022-08-17T12:20:40+0000 lvl=info msg=end pg=/api/tunnels id=82a061c2c0bb0b6d status=200 dur=190.169µs\n",
            "\n",
            "2022-08-17 12:20:40.720 INFO    pyngrok.process: t=2022-08-17T12:20:40+0000 lvl=info msg=end pg=/api/tunnels id=82a061c2c0bb0b6d status=200 dur=190.169µs\n",
            "\n",
            "INFO:pyngrok.process:t=2022-08-17T12:20:40+0000 lvl=info msg=start pg=/api/tunnels id=b2852a548d3ddb6b\n",
            "\n",
            "2022-08-17 12:20:40.724 INFO    pyngrok.process: t=2022-08-17T12:20:40+0000 lvl=info msg=start pg=/api/tunnels id=b2852a548d3ddb6b\n",
            "\n",
            "INFO:pyngrok.process:t=2022-08-17T12:20:40+0000 lvl=info msg=\"started tunnel\" obj=tunnels name=\"http-8501-f3d09f7f-44f9-4e2c-91c8-34e3d0e20dd5 (http)\" addr=http://localhost:8501 url=http://27c8-35-226-174-7.ngrok.io\n",
            "\n",
            "2022-08-17 12:20:40.793 INFO    pyngrok.process: t=2022-08-17T12:20:40+0000 lvl=info msg=\"started tunnel\" obj=tunnels name=\"http-8501-f3d09f7f-44f9-4e2c-91c8-34e3d0e20dd5 (http)\" addr=http://localhost:8501 url=http://27c8-35-226-174-7.ngrok.io\n",
            "\n",
            "INFO:pyngrok.process:t=2022-08-17T12:20:40+0000 lvl=info msg=\"started tunnel\" obj=tunnels name=http-8501-f3d09f7f-44f9-4e2c-91c8-34e3d0e20dd5 addr=http://localhost:8501 url=https://27c8-35-226-174-7.ngrok.io\n",
            "\n",
            "2022-08-17 12:20:40.806 INFO    pyngrok.process: t=2022-08-17T12:20:40+0000 lvl=info msg=\"started tunnel\" obj=tunnels name=http-8501-f3d09f7f-44f9-4e2c-91c8-34e3d0e20dd5 addr=http://localhost:8501 url=https://27c8-35-226-174-7.ngrok.io\n",
            "\n",
            "INFO:pyngrok.process:t=2022-08-17T12:20:40+0000 lvl=info msg=end pg=/api/tunnels id=b2852a548d3ddb6b status=201 dur=87.636121ms\n",
            "\n",
            "2022-08-17 12:20:40.811 INFO    pyngrok.process: t=2022-08-17T12:20:40+0000 lvl=info msg=end pg=/api/tunnels id=b2852a548d3ddb6b status=201 dur=87.636121ms\n",
            "\n"
          ]
        }
      ]
    },
    {
      "cell_type": "code",
      "source": [
        "print(url)"
      ],
      "metadata": {
        "colab": {
          "base_uri": "https://localhost:8080/"
        },
        "id": "JoXCF0hoVvqV",
        "outputId": "087f5789-05d7-4557-bf99-8b0ec2aced48"
      },
      "execution_count": null,
      "outputs": [
        {
          "output_type": "stream",
          "name": "stdout",
          "text": [
            "http://27c8-35-226-174-7.ngrok.io\n"
          ]
        }
      ]
    },
    {
      "cell_type": "code",
      "source": [
        ""
      ],
      "metadata": {
        "id": "0qmEa8XPV7O3"
      },
      "execution_count": null,
      "outputs": []
    }
  ]
}
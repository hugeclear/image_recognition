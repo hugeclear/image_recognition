{
  "nbformat": 4,
  "nbformat_minor": 0,
  "metadata": {
    "colab": {
      "name": "app_recognitioin.ipynb",
      "provenance": [],
      "authorship_tag": "ABX9TyNtSs1VDXOeHiK1Kn5XbIqN",
      "include_colab_link": true
    },
    "kernelspec": {
      "name": "python3",
      "display_name": "Python 3"
    },
    "language_info": {
      "name": "python"
    }
  },
  "cells": [
    {
      "cell_type": "markdown",
      "metadata": {
        "id": "view-in-github",
        "colab_type": "text"
      },
      "source": [
        "<a href=\"https://colab.research.google.com/github/hugeclear/image_recognition/blob/master/app_recognitioin.ipynb\" target=\"_parent\"><img src=\"https://colab.research.google.com/assets/colab-badge.svg\" alt=\"Open In Colab\"/></a>"
      ]
    },
    {
      "cell_type": "code",
      "execution_count": 1,
      "metadata": {
        "id": "CFSFCBa7oAGx"
      },
      "outputs": [],
      "source": [
        "!pip install streamlit==1.7.0 --quiet\n",
        "!pip install pyngrok==4.1.1 --quiet"
      ]
    },
    {
      "cell_type": "code",
      "source": [
        "import streamlit as st\n",
        "from pyngrok import ngrok\n",
        "import numpy as np\n",
        "import json\n",
        "from PIL import Image\n",
        "import matplotlib.pyplot as plt\n",
        "%matplotlib inline\n",
        "import torch\n",
        "import torchvision\n",
        "from torchvision import models,transforms\n"
      ],
      "metadata": {
        "id": "Po8hkbGtOkvI"
      },
      "execution_count": 3,
      "outputs": []
    },
    {
      "cell_type": "code",
      "source": [
        "print(\"pytorch version: \",torch.__version__)\n",
        "print(\"torchvision: \" , torchvision.__version__)\n"
      ],
      "metadata": {
        "colab": {
          "base_uri": "https://localhost:8080/"
        },
        "id": "otcNYe_R3e3t",
        "outputId": "59ada778-15fa-47f1-9a5d-ccaa5dcee6a0"
      },
      "execution_count": 4,
      "outputs": [
        {
          "output_type": "stream",
          "name": "stdout",
          "text": [
            "pytorch version:  1.12.0+cu113\n",
            "torchvision:  0.13.0+cu113\n"
          ]
        }
      ]
    },
    {
      "cell_type": "code",
      "source": [
        "import os\n",
        "import urllib.request\n",
        "import zipfile\n",
        "data_dir = \"./data/\"\n",
        "if not os.path.exists(data_dir):\n",
        "  os.mkdir(data_dir)\n",
        "#imagenetのclass_index download \n",
        "# made by keras\n",
        "# https://github.com/fchollet/deep-learning-models/blob/master/imagenet_utils.py\n",
        "url = \"https://s3.amazonaws.com/deep-learning-models/image-models/imagenet_class_index.json\"\n",
        "save_path = os.path.join(data_dir,\"imagenet_class_index.json\")\n",
        "\n",
        "if not os.path.exists(save_path):\n",
        "  urllib.request.urlretrieve(url,save_path)\n",
        "\n",
        "url = \"https://download.pytorch.org/tutorial/hymenoptera_data.zip\"\n",
        "save_path = os.path.join(data_dir,\"hymenoptera_data.zip\")\n",
        "\n",
        "if not os.path.exists(save_path):\n",
        "  urllib.request.urlretrieve(url,save_path)\n",
        "\n",
        "  zip = zipfile.ZipFile(save_path)\n",
        "  zip.extractall(data_dir) #unfreeze\n",
        "  zip.close()"
      ],
      "metadata": {
        "id": "zzdh7Z9JPS_f"
      },
      "execution_count": 6,
      "outputs": []
    },
    {
      "cell_type": "code",
      "source": [
        "%%writefile model.py\n",
        "import torch\n",
        "from torchvision import models, transforms\n",
        "import torchvision\n",
        "import numpy as np\n",
        "import json\n",
        "\n",
        "\n",
        "use_pretrained=True\n",
        "net=models.vgg16(pretrained=use_pretrained) #import pretraiined model\n",
        "net.eval()\n",
        "\n",
        "def predict(img):\n",
        "  #前処理\n",
        "  transform = transforms.Compose([\n",
        "      transforms.Resize(224),\n",
        "      transforms.CenterCrop(224),\n",
        "      transforms.ToTensor(),\n",
        "      transforms.Normalize(\n",
        "          mean=[0.485,0.456,0.406],\n",
        "          std=[0.229,0.224,0.225]\n",
        "          )\n",
        "  ])\n",
        "  #input to model\n",
        "  img_transformed = transform(img)\n",
        "  #img_transformed = img_transformed.numpy().transpose((1,2,0))\n",
        "  #img_transformed = np.clip(img_transformed,0,1) \n",
        "  inputs=img_transformed.unsqueeze_(0) #unsqueeze_() ->inplace tensor , unsqueeze() -> not inplace\n",
        "\n",
        "  #Create a post-processing class to predict labels from output results\n",
        "  ILSVRC_class_index = json.load(open('/content/data/imagenet_class_index/json','r'))\n",
        "\n",
        "\n",
        "  net.eval()\n",
        "  out=net(inputs)\n",
        "  maxid = np.argmax(out.detach().numpy())\n",
        "  predicted_label_name = ILSVRC_class_index[str(maxid)][1]  \n",
        "\n",
        "  result = predicted_label_name\n",
        "  return result\n",
        "  \n",
        "\n",
        "   \n",
        "  \n",
        "  \n"
      ],
      "metadata": {
        "id": "AF_FRGMFOyOs",
        "colab": {
          "base_uri": "https://localhost:8080/"
        },
        "outputId": "7dd7d9d1-a5f8-4f60-a134-0a673e00992e"
      },
      "execution_count": 50,
      "outputs": [
        {
          "output_type": "stream",
          "name": "stdout",
          "text": [
            "Overwriting model.py\n"
          ]
        }
      ]
    },
    {
      "cell_type": "code",
      "source": [
        "%%writefile app.py\n",
        "import streamlit as st\n",
        "import matplotlib.pyplot as plt\n",
        "from PIL import Image\n",
        "from model import predict\n",
        "\n",
        "st.set_option(\"deprecation.showfileUploaderEncoding\",False)\n",
        "st.sidebar.title(\"画像認識アプリ\")\n",
        "st.sidebar.write(\"vgg１６で未知の画像を推定\")\n",
        "\n",
        "st.sidebar.write(\"\")\n",
        "\n",
        "img_source=st.sidebar.radio(\"select image source\",\n",
        "                            (\"upload image\",\"take photo by camera\"))\n",
        "if img_source == \"upload image\":\n",
        "  img_file = st.sidebar.file_uploader(\"select image\",type=[\"png\",\"jpg\"])\n",
        "elif img_source==\"take photo by camera\":\n",
        "  img_file = st.camera_input(\"take photo\")\n",
        "\n",
        "if img_file is not None:\n",
        "  with st.spinner(\"estimating...\"):\n",
        "    img = Image.open(img_file)\n",
        "    st.image(img, caption=\"this image is ......\")\n",
        "  \n",
        "    results = predict(img)\n",
        "    st.write(results+\"です\")\n",
        "\n",
        "    st.suheader(\"results\")\n",
        "    st.write()\n"
      ],
      "metadata": {
        "id": "PNKgphIIultj",
        "colab": {
          "base_uri": "https://localhost:8080/"
        },
        "outputId": "3a81d229-9ac4-411f-f912-4e103d2752ac"
      },
      "execution_count": 26,
      "outputs": [
        {
          "output_type": "stream",
          "name": "stdout",
          "text": [
            "Overwriting app.py\n"
          ]
        }
      ]
    },
    {
      "cell_type": "code",
      "source": [
        "!ngrok authtoken 299DaPckUttczCFfo6GrbOSuLZK_6neHqb4NvQuBTqnd3xKjm"
      ],
      "metadata": {
        "colab": {
          "base_uri": "https://localhost:8080/"
        },
        "id": "ZuoF-f3UVQtg",
        "outputId": "6b876d0f-1ff0-4653-ddda-7446694b2c2c"
      },
      "execution_count": 12,
      "outputs": [
        {
          "output_type": "stream",
          "name": "stdout",
          "text": [
            "Authtoken saved to configuration file: /root/.ngrok2/ngrok.yml\n"
          ]
        }
      ]
    },
    {
      "cell_type": "code",
      "source": [
        "!streamlit run app.py &>/dev/null&"
      ],
      "metadata": {
        "id": "LrkWXPqIVZdH"
      },
      "execution_count": 51,
      "outputs": []
    },
    {
      "cell_type": "code",
      "source": [
        "ngrok.kill()\n",
        "url = ngrok.connect(port=\"8501\")\n"
      ],
      "metadata": {
        "colab": {
          "base_uri": "https://localhost:8080/"
        },
        "id": "QE-djxY9VkXm",
        "outputId": "becaf9ea-31a7-4909-c66e-01a8b75f862a"
      },
      "execution_count": 52,
      "outputs": [
        {
          "output_type": "stream",
          "name": "stderr",
          "text": [
            "INFO:pyngrok.process:Killing ngrok process: 1971\n",
            "2022-08-12 09:29:39.012 INFO    pyngrok.process: Killing ngrok process: 1971\n",
            "INFO:pyngrok.process:ngrok process starting: 2014\n",
            "2022-08-12 09:29:39.067 INFO    pyngrok.process: ngrok process starting: 2014\n",
            "INFO:pyngrok.process:t=2022-08-12T09:29:39+0000 lvl=info msg=\"no configuration paths supplied\"\n",
            "\n",
            "2022-08-12 09:29:39.100 INFO    pyngrok.process: t=2022-08-12T09:29:39+0000 lvl=info msg=\"no configuration paths supplied\"\n",
            "\n",
            "INFO:pyngrok.process:t=2022-08-12T09:29:39+0000 lvl=info msg=\"using configuration at default config path\" path=/root/.ngrok2/ngrok.yml\n",
            "\n",
            "2022-08-12 09:29:39.119 INFO    pyngrok.process: t=2022-08-12T09:29:39+0000 lvl=info msg=\"using configuration at default config path\" path=/root/.ngrok2/ngrok.yml\n",
            "\n",
            "INFO:pyngrok.process:t=2022-08-12T09:29:39+0000 lvl=info msg=\"open config file\" path=/root/.ngrok2/ngrok.yml err=nil\n",
            "\n",
            "2022-08-12 09:29:39.125 INFO    pyngrok.process: t=2022-08-12T09:29:39+0000 lvl=info msg=\"open config file\" path=/root/.ngrok2/ngrok.yml err=nil\n",
            "\n",
            "INFO:pyngrok.process:t=2022-08-12T09:29:39+0000 lvl=info msg=\"starting web service\" obj=web addr=127.0.0.1:4040\n",
            "\n",
            "2022-08-12 09:29:39.137 INFO    pyngrok.process: t=2022-08-12T09:29:39+0000 lvl=info msg=\"starting web service\" obj=web addr=127.0.0.1:4040\n",
            "\n",
            "INFO:pyngrok.process:t=2022-08-12T09:29:39+0000 lvl=info msg=\"tunnel session started\" obj=tunnels.session\n",
            "\n",
            "2022-08-12 09:29:39.192 INFO    pyngrok.process: t=2022-08-12T09:29:39+0000 lvl=info msg=\"tunnel session started\" obj=tunnels.session\n",
            "\n",
            "INFO:pyngrok.process:t=2022-08-12T09:29:39+0000 lvl=info msg=\"client session established\" obj=csess id=3fa51c6f1058\n",
            "\n",
            "2022-08-12 09:29:39.204 INFO    pyngrok.process: t=2022-08-12T09:29:39+0000 lvl=info msg=\"client session established\" obj=csess id=3fa51c6f1058\n",
            "\n",
            "INFO:pyngrok.process:ngrok process has started: http://127.0.0.1:4040\n",
            "2022-08-12 09:29:39.215 INFO    pyngrok.process: ngrok process has started: http://127.0.0.1:4040\n",
            "INFO:pyngrok.process:t=2022-08-12T09:29:39+0000 lvl=info msg=start pg=/api/tunnels id=2a114b2414f05f34\n",
            "\n",
            "2022-08-12 09:29:39.227 INFO    pyngrok.process: t=2022-08-12T09:29:39+0000 lvl=info msg=start pg=/api/tunnels id=2a114b2414f05f34\n",
            "\n",
            "INFO:pyngrok.process:t=2022-08-12T09:29:39+0000 lvl=info msg=end pg=/api/tunnels id=2a114b2414f05f34 status=200 dur=476.608µs\n",
            "\n",
            "2022-08-12 09:29:39.236 INFO    pyngrok.process: t=2022-08-12T09:29:39+0000 lvl=info msg=end pg=/api/tunnels id=2a114b2414f05f34 status=200 dur=476.608µs\n",
            "\n",
            "INFO:pyngrok.process:t=2022-08-12T09:29:39+0000 lvl=info msg=start pg=/api/tunnels id=06ced7e704fd55b9\n",
            "\n",
            "2022-08-12 09:29:39.242 INFO    pyngrok.process: t=2022-08-12T09:29:39+0000 lvl=info msg=start pg=/api/tunnels id=06ced7e704fd55b9\n",
            "\n",
            "INFO:pyngrok.process:t=2022-08-12T09:29:39+0000 lvl=info msg=end pg=/api/tunnels id=06ced7e704fd55b9 status=200 dur=133.017µs\n",
            "\n",
            "2022-08-12 09:29:39.244 INFO    pyngrok.process: t=2022-08-12T09:29:39+0000 lvl=info msg=end pg=/api/tunnels id=06ced7e704fd55b9 status=200 dur=133.017µs\n",
            "\n",
            "INFO:pyngrok.process:t=2022-08-12T09:29:39+0000 lvl=info msg=start pg=/api/tunnels id=21f566ac7e7095f0\n",
            "\n",
            "2022-08-12 09:29:39.248 INFO    pyngrok.process: t=2022-08-12T09:29:39+0000 lvl=info msg=start pg=/api/tunnels id=21f566ac7e7095f0\n",
            "\n",
            "INFO:pyngrok.process:t=2022-08-12T09:29:39+0000 lvl=info msg=\"started tunnel\" obj=tunnels name=\"http-8501-504d6c1d-e864-42e8-8070-bfe2b7da863a (http)\" addr=http://localhost:8501 url=http://0d01-34-85-168-202.ngrok.io\n",
            "\n",
            "2022-08-12 09:29:39.281 INFO    pyngrok.process: t=2022-08-12T09:29:39+0000 lvl=info msg=\"started tunnel\" obj=tunnels name=\"http-8501-504d6c1d-e864-42e8-8070-bfe2b7da863a (http)\" addr=http://localhost:8501 url=http://0d01-34-85-168-202.ngrok.io\n",
            "\n",
            "INFO:pyngrok.process:t=2022-08-12T09:29:39+0000 lvl=info msg=\"started tunnel\" obj=tunnels name=http-8501-504d6c1d-e864-42e8-8070-bfe2b7da863a addr=http://localhost:8501 url=https://0d01-34-85-168-202.ngrok.io\n",
            "\n",
            "2022-08-12 09:29:39.291 INFO    pyngrok.process: t=2022-08-12T09:29:39+0000 lvl=info msg=\"started tunnel\" obj=tunnels name=http-8501-504d6c1d-e864-42e8-8070-bfe2b7da863a addr=http://localhost:8501 url=https://0d01-34-85-168-202.ngrok.io\n",
            "\n",
            "INFO:pyngrok.process:t=2022-08-12T09:29:39+0000 lvl=info msg=end pg=/api/tunnels id=21f566ac7e7095f0 status=201 dur=54.792034ms\n",
            "\n"
          ]
        }
      ]
    },
    {
      "cell_type": "code",
      "source": [
        "print(url)"
      ],
      "metadata": {
        "colab": {
          "base_uri": "https://localhost:8080/"
        },
        "id": "JoXCF0hoVvqV",
        "outputId": "a4f7643e-f6f9-44cd-8448-aa487dcb0a89"
      },
      "execution_count": 53,
      "outputs": [
        {
          "output_type": "stream",
          "name": "stderr",
          "text": [
            "2022-08-12 09:29:39.293 INFO    pyngrok.process: t=2022-08-12T09:29:39+0000 lvl=info msg=end pg=/api/tunnels id=21f566ac7e7095f0 status=201 dur=54.792034ms\n",
            "\n"
          ]
        },
        {
          "output_type": "stream",
          "name": "stdout",
          "text": [
            "http://0d01-34-85-168-202.ngrok.io\n"
          ]
        }
      ]
    },
    {
      "cell_type": "code",
      "source": [
        ""
      ],
      "metadata": {
        "id": "0qmEa8XPV7O3"
      },
      "execution_count": 53,
      "outputs": []
    }
  ]
}